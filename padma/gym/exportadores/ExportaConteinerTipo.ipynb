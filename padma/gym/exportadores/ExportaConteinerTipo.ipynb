{
 "cells": [
  {
   "cell_type": "code",
   "execution_count": 1,
   "metadata": {},
   "outputs": [],
   "source": [
    "from pymongo import MongoClient\n",
    "\n",
    "from ajna_commons.flask.conf import DATABASE, MONGODB_URI\n",
    "from ajna_commons.utils.images import get_imagens_recortadas\n",
    "from collections import defaultdict, Counter\n",
    "\n",
    "db = MongoClient(host=MONGODB_URI)[DATABASE]"
   ]
  },
  {
   "cell_type": "code",
   "execution_count": 5,
   "metadata": {},
   "outputs": [],
   "source": [
    "ENCONTRADOS = {'metadata.carga.atracacao.escala': {'$ne': None},\n",
    "               'metadata.contentType': 'image/jpeg'}\n",
    "               \n",
    "\n",
    "def get_cursor_filtrdo(db, vazio=False, limit=None):\n",
    "    filtro = ENCONTRADOS\n",
    "    filtro['metadata.carga.vazio'] = vazio\n",
    "    print(filtro)\n",
    "    cursor = db['fs.files'].find(filtro)\n",
    "    if limit:\n",
    "        cursor.limit(limit)\n",
    "    return cursor\n"
   ]
  },
  {
   "cell_type": "code",
   "execution_count": 53,
   "metadata": {},
   "outputs": [],
   "source": [
    "def monta_dict_imagens_portipo(db, vazio=False, limit=None,\n",
    "                               limitportipo=200):\n",
    "    cursor = get_cursor_filtrado(db, vazio=vazio, limit=limit)\n",
    "    imagens = {}\n",
    "    imagens['40'] = defaultdict(list)\n",
    "    imagens['20'] = defaultdict(list)\n",
    "    tipo_counter = Counter()\n",
    "    if vazio:\n",
    "        CAPACIDADE = 'capacidade(pes)'\n",
    "        TIPO = 'nometipo'\n",
    "    else:\n",
    "        CAPACIDADE = 'capacidade'\n",
    "        TIPO = 'tipo'\n",
    "    for linha in cursor:\n",
    "        _id= linha['_id']\n",
    "        containeres = linha.get('metadata').get('carga').get('container')\n",
    "        for container in containeres:\n",
    "            capacidade = container.get(CAPACIDADE)\n",
    "            tipo = container.get(TIPO)\n",
    "            if tipo is None:\n",
    "                continue\n",
    "            if tipo_counter[tipo] < limitportipo:\n",
    "                lista = [(_id, im) for im in get_imagens_recortadas(db, _id)]\n",
    "                if lista:\n",
    "                    imagens[capacidade][tipo].append(lista)\n",
    "                    tipo_counter[tipo] += 1\n",
    "    return imagens"
   ]
  },
  {
   "cell_type": "code",
   "execution_count": 54,
   "metadata": {},
   "outputs": [
    {
     "name": "stdout",
     "output_type": "stream",
     "text": [
      "{'metadata.carga.atracacao.escala': {'$ne': None}, 'metadata.carga.vazio': False, 'metadata.contentType': 'image/jpeg'}\n"
     ]
    }
   ],
   "source": [
    "imagens = monta_dict_imagens_portipo(db, limit=50000)"
   ]
  },
  {
   "cell_type": "code",
   "execution_count": 55,
   "metadata": {},
   "outputs": [
    {
     "name": "stdout",
     "output_type": "stream",
     "text": [
      "{'metadata.carga.atracacao.escala': {'$ne': None}, 'metadata.carga.vazio': True, 'metadata.contentType': 'image/jpeg'}\n"
     ]
    }
   ],
   "source": [
    "imagensv = monta_dict_imagens_portipo(db, vazio=True, limit=20000)"
   ]
  },
  {
   "cell_type": "code",
   "execution_count": 56,
   "metadata": {},
   "outputs": [],
   "source": [
    "import unicodedata\n",
    "import string\n",
    "\n",
    "valid_filename_chars = \"-_.() %s%s\" % (string.ascii_letters, string.digits)\n",
    "\n",
    "def clean_filename(filename, whitelist=valid_filename_chars, replace=' '):\n",
    "    # replace spaces\n",
    "    for r in replace:\n",
    "        filename = filename.replace(r,'_')\n",
    "    \n",
    "    # keep only valid ascii chars\n",
    "    cleaned_filename = unicodedata.normalize('NFKD', filename).encode('ASCII', 'ignore').decode()\n",
    "    \n",
    "    # keep only whitelisted chars\n",
    "    return ''.join(c for c in cleaned_filename if c in whitelist)"
   ]
  },
  {
   "cell_type": "code",
   "execution_count": 57,
   "metadata": {},
   "outputs": [],
   "source": [
    "import os\n",
    "from PIL import Image\n",
    "def save_dicts(path, imagens):\n",
    "    try:\n",
    "        os.mkdir(path)\n",
    "    except FileExistsError:\n",
    "        pass\n",
    "    for cap in ['20', '40']:\n",
    "        cap_path = os.path.join(path, cap)\n",
    "        try:\n",
    "            os.mkdir(cap_path)\n",
    "        except FileExistsError:\n",
    "            pass\n",
    "        for key, value in imagens[cap].items():\n",
    "            sub_path = os.path.join(cap_path, clean_filename(key))\n",
    "            try:\n",
    "                os.mkdir(sub_path)\n",
    "            except FileExistsError:\n",
    "                pass\n",
    "            for items in value:\n",
    "                for imtuple in items:\n",
    "                    image = imtuple[1]\n",
    "                    filename = str(imtuple[0]) + '.jpg'\n",
    "                    image.save(os.path.join(sub_path, filename))"
   ]
  },
  {
   "cell_type": "code",
   "execution_count": 58,
   "metadata": {},
   "outputs": [],
   "source": [
    "save_dicts(path='naovazios', imagens=imagens)\n",
    "save_dicts(path='vazios', imagens=imagensv)"
   ]
  },
  {
   "cell_type": "code",
   "execution_count": null,
   "metadata": {},
   "outputs": [],
   "source": []
  },
  {
   "cell_type": "code",
   "execution_count": null,
   "metadata": {},
   "outputs": [],
   "source": []
  }
 ],
 "metadata": {
  "kernelspec": {
   "display_name": "Python 3",
   "language": "python",
   "name": "python3"
  },
  "language_info": {
   "codemirror_mode": {
    "name": "ipython",
    "version": 3
   },
   "file_extension": ".py",
   "mimetype": "text/x-python",
   "name": "python",
   "nbconvert_exporter": "python",
   "pygments_lexer": "ipython3",
   "version": "3.6.5"
  }
 },
 "nbformat": 4,
 "nbformat_minor": 2
}
