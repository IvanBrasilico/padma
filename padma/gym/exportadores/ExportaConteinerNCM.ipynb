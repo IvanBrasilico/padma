{
 "cells": [
  {
   "cell_type": "code",
   "execution_count": 5,
   "metadata": {},
   "outputs": [],
   "source": [
    "import os\n",
    "from pymongo import MongoClient\n",
    "\n",
    "from ajna_commons.flask.conf import DATABASE, MONGODB_URI\n",
    "from ajna_commons.utils.images import get_imagens_recortadas\n",
    "from collections import defaultdict, Counter\n",
    "\n",
    "db = MongoClient(host=MONGODB_URI)[DATABASE]"
   ]
  },
  {
   "cell_type": "code",
   "execution_count": 2,
   "metadata": {},
   "outputs": [],
   "source": [
    "TEMNCM = {'metadata.contentType': 'image/jpeg',\n",
    "          'metadata.carga.ncm': {'$size': 1},\n",
    "          'metadata.carga.container.indicadorusoparcial': {'$ne': 's'}\n",
    "         }                                                          \n",
    "               \n",
    "def get_cursor_filtrado(db, limit=None):\n",
    "    filtro = TEMNCM\n",
    "    print(filtro)\n",
    "    cursor = db['fs.files'].find(filtro)\n",
    "    if limit:\n",
    "        cursor.limit(limit)\n",
    "    return cursor\n"
   ]
  },
  {
   "cell_type": "code",
   "execution_count": 7,
   "metadata": {},
   "outputs": [],
   "source": [
    "def save_imagens_ncm_unico(db, \n",
    "                           path,\n",
    "                           limit=None,\n",
    "                           limitportipo=100):\n",
    "    cursor = get_cursor_filtrado(db, limit=limit)\n",
    "    imagens = defaultdict(list)\n",
    "    tipo_counter = Counter()\n",
    "    try:\n",
    "        os.mkdir(path)\n",
    "    except FileExistsError:\n",
    "        pass\n",
    "    for linha in cursor:\n",
    "        _id= linha['_id']\n",
    "        ncms = linha.get('metadata').get('carga').get('ncm')\n",
    "        ncms_encontrados = set()\n",
    "        for ncm in ncms:\n",
    "            posicao = ncm.get('ncm')[:4]\n",
    "            ncms_encontrados.add(posicao)\n",
    "        if len(ncms_encontrados) == 1:  # Achou 1 e somente 1 posição ncm\n",
    "            posicao = list(ncms_encontrados)[0]\n",
    "            if tipo_counter[posicao] < limitportipo:\n",
    "                for im in get_imagens_recortadas(db, _id):\n",
    "                    sub_path = os.path.join(path, posicao)\n",
    "                    try:\n",
    "                        os.mkdir(sub_path)\n",
    "                    except FileExistsError:\n",
    "                        pass\n",
    "                    filename = str(_id) + '.jpg'\n",
    "                    im.save(os.path.join(sub_path, filename))\n",
    "                    del im\n",
    "                    tipo_counter[posicao] += 1\n"
   ]
  },
  {
   "cell_type": "code",
   "execution_count": 8,
   "metadata": {},
   "outputs": [
    {
     "name": "stdout",
     "output_type": "stream",
     "text": [
      "{'metadata.contentType': 'image/jpeg', 'metadata.carga.ncm': {'$exists': True}}\n"
     ]
    }
   ],
   "source": [
    "save_imagens_ncm_unico(db, 'ncmsunicos', limit = 20000)"
   ]
  },
  {
   "cell_type": "code",
   "execution_count": null,
   "metadata": {},
   "outputs": [],
   "source": []
  }
 ],
 "metadata": {
  "kernelspec": {
   "display_name": "Python 3",
   "language": "python",
   "name": "python3"
  },
  "language_info": {
   "codemirror_mode": {
    "name": "ipython",
    "version": 3
   },
   "file_extension": ".py",
   "mimetype": "text/x-python",
   "name": "python",
   "nbconvert_exporter": "python",
   "pygments_lexer": "ipython3",
   "version": "3.6.5"
  }
 },
 "nbformat": 4,
 "nbformat_minor": 2
}
