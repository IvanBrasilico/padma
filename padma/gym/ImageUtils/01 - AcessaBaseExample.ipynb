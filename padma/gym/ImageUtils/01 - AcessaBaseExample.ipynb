{
 "cells": [
  {
   "cell_type": "code",
   "execution_count": 1,
   "metadata": {},
   "outputs": [
    {
     "name": "stderr",
     "output_type": "stream",
     "text": [
      "2019-03-12 17:23:17,950 ajna         INFO     Configuração de log efetuada\n"
     ]
    },
    {
     "name": "stdout",
     "output_type": "stream",
     "text": [
      "Fazendo log de erros e alertas no arquivo  /home/ivan/pybr/ajna/padma/ajna_commons/flask/error.log\n",
      "Fazendo log de atividade no arquivo  /home/ivan/pybr/ajna/padma/ajna_commons/flask/access.log\n"
     ]
    }
   ],
   "source": [
    "import os\n",
    "from pymongo import MongoClient\n",
    "\n",
    "from ajna_commons.flask.conf import DATABASE, MONGODB_URI\n",
    "from ajna_commons.utils.images import get_imagens_recortadas\n",
    "from collections import defaultdict, Counter\n",
    "\n",
    "db = MongoClient(host=MONGODB_URI)[DATABASE]"
   ]
  },
  {
   "cell_type": "code",
   "execution_count": 2,
   "metadata": {},
   "outputs": [],
   "source": [
    "TEMNCM = {'metadata.contentType': 'image/jpeg',\n",
    "          'metadata.carga.ncm': {'$exists': True}\n",
    "         }\n",
    "               \n",
    "def get_cursor_filtrado(db, filtro, limit=None):\n",
    "    cursor = db['fs.files'].find(filtro)\n",
    "    if limit:\n",
    "        cursor.limit(limit)\n",
    "    return cursor\n"
   ]
  },
  {
   "cell_type": "code",
   "execution_count": 3,
   "metadata": {},
   "outputs": [],
   "source": [
    "    cursor = get_cursor_filtrado(db, filtro=TEMNCM, limit=limit)\n"
   ]
  },
  {
   "cell_type": "code",
   "execution_count": null,
   "metadata": {},
   "outputs": [],
   "source": [
    "save_imagens_ncm_unico(db, 'ncmsunicos', limit = 20000)"
   ]
  },
  {
   "cell_type": "code",
   "execution_count": null,
   "metadata": {},
   "outputs": [],
   "source": []
  }
 ],
 "metadata": {
  "kernelspec": {
   "display_name": "padma-venv",
   "language": "python",
   "name": "padma-venv"
  },
  "language_info": {
   "codemirror_mode": {
    "name": "ipython",
    "version": 3
   },
   "file_extension": ".py",
   "mimetype": "text/x-python",
   "name": "python",
   "nbconvert_exporter": "python",
   "pygments_lexer": "ipython3",
   "version": "3.5.2"
  }
 },
 "nbformat": 4,
 "nbformat_minor": 2
}
