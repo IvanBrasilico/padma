{
 "cells": [
  {
   "cell_type": "code",
   "execution_count": 1,
   "metadata": {},
   "outputs": [
    {
     "name": "stderr",
     "output_type": "stream",
     "text": [
      "2019-03-24 15:57:59,275 ajna         INFO     Configuração de log efetuada\n"
     ]
    },
    {
     "name": "stdout",
     "output_type": "stream",
     "text": [
      "Fazendo log de erros e alertas no arquivo  /home/ivan/pybr/ajna/padma/ajna_commons/flask/error.log\n",
      "Fazendo log de atividade no arquivo  /home/ivan/pybr/ajna/padma/ajna_commons/flask/access.log\n",
      "[15]\n"
     ]
    },
    {
     "name": "stderr",
     "output_type": "stream",
     "text": [
      "/home/ivan/pybr/ajna/padma/padma-venv/lib/python3.5/site-packages/sklearn/ensemble/weight_boosting.py:29: DeprecationWarning: numpy.core.umath_tests is an internal NumPy module and should not be imported. It will be removed in a future NumPy release.\n",
      "  from numpy.core.umath_tests import inner1d\n"
     ]
    }
   ],
   "source": [
    "import json\n",
    "import numpy as np\n",
    "import time\n",
    "from gridfs import GridFS\n",
    "from pymongo import MongoClient\n",
    "from PIL import Image\n",
    "\n",
    "from padma.models.peso.peso2 import N_BINS, PesoModel2\n",
    "\n",
    "from ajna_commons.flask.conf import DATABASE, MONGODB_URI\n",
    "from ajna_commons.utils.images import generate_batch, get_imagens_recortadas\n",
    "\n",
    "db = MongoClient(host=MONGODB_URI)[DATABASE]\n",
    "fs = GridFS(db)\n",
    "\n",
    "pesomodel = PesoModel2()\n",
    "print(pesomodel.input_shape)"
   ]
  },
  {
   "cell_type": "code",
   "execution_count": 2,
   "metadata": {},
   "outputs": [],
   "source": [
    "batch_size = 128\n",
    "limit = 1280\n",
    "TEMBBOX = {'metadata.contentType': 'image/jpeg',\n",
    "          'metadata.predictions.bbox': {'$exists': True}}\n",
    "dict_filtro = TEMBBOX\n",
    "projection = ['metadata.predictions']\n",
    "# dict_filtro['metadata.predictions.index'] = False"
   ]
  },
  {
   "cell_type": "code",
   "execution_count": 3,
   "metadata": {},
   "outputs": [
    {
     "data": {
      "text/plain": [
       "33879"
      ]
     },
     "execution_count": 3,
     "metadata": {},
     "output_type": "execute_result"
    }
   ],
   "source": [
    "db['fs.files'].count_documents(dict_filtro)"
   ]
  },
  {
   "cell_type": "code",
   "execution_count": 4,
   "metadata": {},
   "outputs": [],
   "source": [
    "batch_gen = generate_batch(db, filtro=dict_filtro, projection=projection,\n",
    "                           batch_size=batch_size, limit=limit)\n",
    "model = pesomodel\n",
    "model.model.n_jobs = 1"
   ]
  },
  {
   "cell_type": "code",
   "execution_count": 5,
   "metadata": {},
   "outputs": [
    {
     "name": "stdout",
     "output_type": "stream",
     "text": [
      "Montou X em 0.39 \n",
      "Fez predição em 0.002807140350341797\n",
      "Montou X em 0.32 \n",
      "Fez predição em 0.002011537551879883\n",
      "Montou X em 0.33 \n",
      "Fez predição em 0.0022270679473876953\n",
      "Montou X em 0.41 \n",
      "Fez predição em 0.0022029876708984375\n",
      "Montou X em 0.36 \n",
      "Fez predição em 0.0015447139739990234\n",
      "Montou X em 0.34 \n",
      "Fez predição em 0.0024306774139404297\n",
      "Montou X em 0.45 \n",
      "Fez predição em 0.0017740726470947266\n",
      "Montou X em 0.29 \n",
      "Fez predição em 0.0017902851104736328\n",
      "Montou X em 0.39 \n",
      "Fez predição em 0.0017571449279785156\n",
      "Montou X em 0.29 \n",
      "Fez predição em 0.0015561580657958984\n",
      "Tempo total: 15.500345468521118. Por imagem: 0.012109644897282123\n"
     ]
    }
   ],
   "source": [
    "X = np.zeros((batch_size, *model.input_shape), dtype=np.float32)\n",
    "_ids = []\n",
    "y = []\n",
    "s = time.time()\n",
    "for batch, rows in batch_gen:\n",
    "    if len(batch) == 0:\n",
    "        break\n",
    "    s0 = time.time()\n",
    "    for i, (images, row) in enumerate(zip(batch, rows)):\n",
    "        x = model.prepara(images[0])\n",
    "        X[i, :] = x\n",
    "        _ids.append(row['_id'])\n",
    "    s1 = time.time()\n",
    "    print('Montou X em %0.2f ' % (s1 - s0))\n",
    "    preds = model.model.predict(X)\n",
    "    y.append(preds)\n",
    "    s2 = time.time()\n",
    "    print('Fez predição em %s' % (s2 - s1))\n",
    "    # print(indexes)\n",
    "s3 = time.time()\n",
    "elapsed = s3 - s\n",
    "print('Tempo total: %s. Por imagem: %s' % (elapsed, elapsed / limit))\n",
    "    "
   ]
  },
  {
   "cell_type": "markdown",
   "metadata": {},
   "source": [
    "## Abaixo, testes e visualizações de \"sanidade\", isto é, as predições são iguais às do PADMA???"
   ]
  },
  {
   "cell_type": "code",
   "execution_count": 7,
   "metadata": {},
   "outputs": [
    {
     "data": {
      "text/plain": [
       "(128,)"
      ]
     },
     "execution_count": 7,
     "metadata": {},
     "output_type": "execute_result"
    }
   ],
   "source": [
    "preds.shape"
   ]
  },
  {
   "cell_type": "code",
   "execution_count": 8,
   "metadata": {},
   "outputs": [
    {
     "data": {
      "text/plain": [
       "(1280,)"
      ]
     },
     "execution_count": 8,
     "metadata": {},
     "output_type": "execute_result"
    }
   ],
   "source": [
    "ystack = np.vstack(y).astype(np.float32).flatten()\n",
    "ystack.shape"
   ]
  },
  {
   "cell_type": "code",
   "execution_count": 9,
   "metadata": {},
   "outputs": [
    {
     "data": {
      "text/plain": [
       "1280"
      ]
     },
     "execution_count": 9,
     "metadata": {},
     "output_type": "execute_result"
    }
   ],
   "source": [
    "len(_ids)"
   ]
  },
  {
   "cell_type": "code",
   "execution_count": 10,
   "metadata": {},
   "outputs": [],
   "source": [
    "# TODO: Fazer Update no MongoDB"
   ]
  },
  {
   "cell_type": "code",
   "execution_count": 11,
   "metadata": {},
   "outputs": [
    {
     "name": "stdout",
     "output_type": "stream",
     "text": [
      "28337.480494505493 28108.828\n",
      "228.65236950549297\n",
      "6025.895937660854 6025.896\n",
      "29657.64348176531 29657.643\n",
      "27224.94695619157 27224.947\n",
      "23143.433933730157 25767.314\n",
      "2623.880519394843\n",
      "13755.541070806541 13755.541\n",
      "25128.535906166042 24828.082\n",
      "300.45387491604197\n",
      "17430.17714098451 16868.428\n",
      "561.7494066095096\n",
      "15461.983241610049 15624.591\n",
      "162.60757870245106\n",
      "7816.210324935654 7613.662\n",
      "202.54821556065417\n"
     ]
    }
   ],
   "source": [
    "for i, _id in enumerate(_ids[:10]):\n",
    "    index_row = db.fs.files.find_one({'_id': _id})\n",
    "    old_peso = index_row['metadata']['predictions'][0]['peso']\n",
    "    new_peso = ystack[i]\n",
    "    print(old_peso, new_peso)\n",
    "    dif = abs(old_peso - new_peso)\n",
    "    if dif > 1.:\n",
    "        print(dif)"
   ]
  },
  {
   "cell_type": "code",
   "execution_count": 12,
   "metadata": {},
   "outputs": [],
   "source": [
    "# db.fs.files.update_one({'_id': _ids[0]}, {'$set': {'metadata.predicitions': json.dumps(new_predictions)}})"
   ]
  },
  {
   "cell_type": "code",
   "execution_count": 15,
   "metadata": {},
   "outputs": [
    {
     "name": "stdout",
     "output_type": "stream",
     "text": [
      "Same answer: True\n",
      "1.33 ms ± 104 µs per loop (mean ± std. dev. of 7 runs, 1000 loops each)\n",
      "1.84 ms ± 702 µs per loop (mean ± std. dev. of 7 runs, 1000 loops each)\n"
     ]
    }
   ],
   "source": [
    "array = np.asarray(images[0]).flatten() #, dtype=np.float32)\n",
    "# print(array)\n",
    "# Verify they give the same answer\n",
    "H_np = np.histogram(array, bins=16, range=(0, 255))[0]\n",
    "H_ds = np.histogram(array, bins=16)[0]\n",
    "# print(H_np)\n",
    "# print(H_ds)\n",
    "\n",
    "print ('Same answer:', (H_np == H_ds).all())\n",
    "\n",
    "# Timeit\n",
    "%timeit np.histogram(array, bins=16, range=(0, 255))\n",
    "%timeit np.histogram(array, bins=16)"
   ]
  },
  {
   "cell_type": "code",
   "execution_count": null,
   "metadata": {},
   "outputs": [],
   "source": []
  }
 ],
 "metadata": {
  "kernelspec": {
   "display_name": "padma-venv",
   "language": "python",
   "name": "padma-venv"
  },
  "language_info": {
   "codemirror_mode": {
    "name": "ipython",
    "version": 3
   },
   "file_extension": ".py",
   "mimetype": "text/x-python",
   "name": "python",
   "nbconvert_exporter": "python",
   "pygments_lexer": "ipython3",
   "version": "3.5.2"
  }
 },
 "nbformat": 4,
 "nbformat_minor": 2
}
