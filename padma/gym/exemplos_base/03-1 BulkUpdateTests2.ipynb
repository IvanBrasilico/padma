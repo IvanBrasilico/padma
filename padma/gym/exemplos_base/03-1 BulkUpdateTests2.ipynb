{
 "cells": [
  {
   "cell_type": "code",
   "execution_count": 5,
   "metadata": {},
   "outputs": [],
   "source": [
    "import json\n",
    "import numpy as np\n",
    "import time\n",
    "from gridfs import GridFS\n",
    "from pymongo import MongoClient\n",
    "from PIL import Image\n",
    "from padma.models.encoder.encoder import EncoderModel, SIZE\n",
    "from ajna_commons.flask.conf import DATABASE, MONGODB_URI\n",
    "from ajna_commons.utils.images import generate_batch, get_imagens_recortadas\n",
    "\n",
    "db = MongoClient(host=MONGODB_URI)[DATABASE]\n",
    "encoder = EncoderModel()"
   ]
  },
  {
   "cell_type": "code",
   "execution_count": 8,
   "metadata": {},
   "outputs": [],
   "source": [
    "batch_size = 10\n",
    "limit = 100\n",
    "TEMBBOX = {'metadata.contentType': 'image/jpeg',\n",
    "          'metadata.predictions.bbox': {'$exists': True}}\n",
    "dict_filtro = TEMBBOX\n",
    "projection = ['metadata.predictions']\n",
    "# dict_filtro['metadata.predictions.index'] = False\n",
    "batch_gen = generate_batch(db, filtro=dict_filtro, projection=projection,\n",
    "                           batch_size=batch_size, limit=limit)"
   ]
  },
  {
   "cell_type": "markdown",
   "metadata": {},
   "source": [
    "## Abaixo, faz predição e já grava, registro a registro, no Banco de Dados"
   ]
  },
  {
   "cell_type": "code",
   "execution_count": 9,
   "metadata": {},
   "outputs": [
    {
     "name": "stdout",
     "output_type": "stream",
     "text": [
      "Montou X em 0.00 \n",
      "Fez predição em 0.008016109466552734\n",
      "Atualizou Banco de Dados em 0.006847858428955078\n",
      "Montou X em 0.00 \n",
      "Fez predição em 0.003246307373046875\n",
      "Atualizou Banco de Dados em 0.0066220760345458984\n",
      "Montou X em 0.00 \n",
      "Fez predição em 0.003319263458251953\n",
      "Atualizou Banco de Dados em 0.007515907287597656\n",
      "Montou X em 0.00 \n",
      "Fez predição em 0.003371715545654297\n",
      "Atualizou Banco de Dados em 0.00655674934387207\n",
      "Montou X em 0.00 \n",
      "Fez predição em 0.0033240318298339844\n",
      "Atualizou Banco de Dados em 0.007073163986206055\n",
      "Montou X em 0.00 \n",
      "Fez predição em 0.0032885074615478516\n",
      "Atualizou Banco de Dados em 0.006376028060913086\n",
      "Montou X em 0.00 \n",
      "Fez predição em 0.003262042999267578\n",
      "Atualizou Banco de Dados em 0.00513458251953125\n",
      "Montou X em 0.00 \n",
      "Fez predição em 0.0030984878540039062\n",
      "Atualizou Banco de Dados em 0.006119966506958008\n",
      "Montou X em 0.00 \n",
      "Fez predição em 0.003169536590576172\n",
      "Atualizou Banco de Dados em 0.006087779998779297\n",
      "Montou X em 0.00 \n",
      "Fez predição em 0.0035338401794433594\n",
      "Atualizou Banco de Dados em 0.0068264007568359375\n",
      "Tempo total: 0.9470887184143066. Por imagem: 0.009470887184143066\n"
     ]
    }
   ],
   "source": [
    "X = np.zeros((batch_size, *SIZE, 1), dtype=np.float32)\n",
    "rows = []\n",
    "y = []\n",
    "s = time.time()\n",
    "for batch, rows in batch_gen:\n",
    "    if len(batch) == 0:\n",
    "        break\n",
    "    for i, (images, row) in enumerate(zip(batch, rows)):\n",
    "        image_array = encoder.image_prepare(images[0])\n",
    "        s0 = time.time()\n",
    "        X[i, :, :, :] = image_array\n",
    "        rows.append(row)\n",
    "    s1 = time.time()\n",
    "    print('Montou X em %0.2f ' % (s1 - s0))\n",
    "    indexes = encoder.model.predict(X)\n",
    "    indexes = indexes.reshape(-1, 128).astype(np.float32)\n",
    "    y.append(indexes)\n",
    "    s2 = time.time()\n",
    "    print('Fez predição em %s' % (s2 - s1))\n",
    "    # print(indexes)\n",
    "    ystack = np.vstack(y).astype(np.float32)\n",
    "    for i in range(batch_size):\n",
    "        new_list = ystack[i, :].tolist()\n",
    "        index_row = rows[i]\n",
    "        _id = row['_id']\n",
    "        old_predictions = index_row['metadata']['predictions']\n",
    "        new_predictions = old_predictions\n",
    "        new_predictions[0]['index'] = new_list\n",
    "        db.fs.files.update_one({'_id': _id}, {'$set': {'metadata.predicitions': json.dumps(new_predictions)}})\n",
    "    s3 = time.time()\n",
    "    print('Atualizou Banco de Dados em %s' % (s3 - s2))\n",
    "s4 = time.time()\n",
    "elapsed = s4 - s\n",
    "print('Tempo total: %s. Por imagem: %s' % (elapsed, elapsed / limit))\n"
   ]
  },
  {
   "cell_type": "code",
   "execution_count": null,
   "metadata": {},
   "outputs": [],
   "source": []
  }
 ],
 "metadata": {
  "kernelspec": {
   "display_name": "padma-venv",
   "language": "python",
   "name": "padma-venv"
  },
  "language_info": {
   "codemirror_mode": {
    "name": "ipython",
    "version": 3
   },
   "file_extension": ".py",
   "mimetype": "text/x-python",
   "name": "python",
   "nbconvert_exporter": "python",
   "pygments_lexer": "ipython3",
   "version": "3.5.2"
  }
 },
 "nbformat": 4,
 "nbformat_minor": 2
}
