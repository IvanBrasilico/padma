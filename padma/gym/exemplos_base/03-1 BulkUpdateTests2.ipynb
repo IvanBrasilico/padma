{
 "cells": [
  {
   "cell_type": "code",
   "execution_count": 4,
   "metadata": {},
   "outputs": [],
   "source": [
    "import json\n",
    "import numpy as np\n",
    "import time\n",
    "from bson.objectid import ObjectId\n",
    "from gridfs import GridFS\n",
    "from pymongo import MongoClient\n",
    "from PIL import Image\n",
    "from padma.models.encoder.encoder import EncoderModel, SIZE\n",
    "from ajna_commons.flask.conf import DATABASE, MONGODB_URI\n",
    "from ajna_commons.utils.images import generate_batch, get_imagens_recortadas\n",
    "\n",
    "db = MongoClient(host=MONGODB_URI)[DATABASE]\n",
    "encoder = EncoderModel()"
   ]
  },
  {
   "cell_type": "code",
   "execution_count": 5,
   "metadata": {},
   "outputs": [],
   "source": [
    "batch_size = 10\n",
    "limit = 100\n",
    "TEMBBOX = {'metadata.contentType': 'image/jpeg',\n",
    "          'metadata.predictions.bbox': {'$exists': True}}\n",
    "dict_filtro = TEMBBOX\n",
    "projection = ['metadata.predictions']\n",
    "dict_filtro['metadata.predictions.index'] = {'$exists': False}\n",
    "batch_gen = generate_batch(db, filtro=dict_filtro, projection=projection,\n",
    "                           batch_size=batch_size, limit=limit)"
   ]
  },
  {
   "cell_type": "markdown",
   "metadata": {},
   "source": [
    "## Abaixo, faz predição e já grava, registro a registro, no Banco de Dados"
   ]
  },
  {
   "cell_type": "code",
   "execution_count": 6,
   "metadata": {},
   "outputs": [
    {
     "name": "stdout",
     "output_type": "stream",
     "text": [
      "[]\n",
      "Tempo total: 0.0979607105255127. Por imagem: 0.000979607105255127\n"
     ]
    }
   ],
   "source": [
    "X = np.zeros((batch_size, *SIZE, 1), dtype=np.float32)\n",
    "rows = []\n",
    "y = []\n",
    "s = time.time()\n",
    "for batch, rows in batch_gen:\n",
    "    print(rows)\n",
    "    if len(batch) == 0:\n",
    "        break\n",
    "    for i, (images, row) in enumerate(zip(batch, rows)):\n",
    "        image_array = encoder.image_prepare(images[0])\n",
    "        s0 = time.time()\n",
    "        X[i, :, :, :] = image_array\n",
    "        rows.append(row)\n",
    "    s1 = time.time()\n",
    "    print('Montou X em %0.2f ' % (s1 - s0))\n",
    "    indexes = encoder.model.predict(X)\n",
    "    indexes = indexes.reshape(-1, 128).astype(np.float32)\n",
    "    y.append(indexes)\n",
    "    s2 = time.time()\n",
    "    print('Fez predição em %s' % (s2 - s1))\n",
    "    # print(indexes)\n",
    "    ystack = np.vstack(y).astype(np.float32)\n",
    "    for i in range(batch_size):\n",
    "        new_list = ystack[i, :].tolist()\n",
    "        index_row = rows[i]\n",
    "        _id = index_row['_id']\n",
    "        old_predictions = index_row['metadata']['predictions']\n",
    "        # print(old_predictions)\n",
    "        new_predictions = old_predictions\n",
    "        new_predictions[0]['index'] = new_list\n",
    "        # print(new_predictions)\n",
    "        result = db.fs.files.update_one({'_id': ObjectId(_id)}, {'$set': {'metadata.predictions': json.dumps(new_predictions)}})\n",
    "        # print(result.matched_count, result.modified_count)\n",
    "        print(_id)\n",
    "    s3 = time.time()\n",
    "    print('Atualizou Banco de Dados em %s' % (s3 - s2))\n",
    "s4 = time.time()\n",
    "elapsed = s4 - s\n",
    "print('Tempo total: %s. Por imagem: %s' % (elapsed, elapsed / limit))\n"
   ]
  },
  {
   "cell_type": "code",
   "execution_count": null,
   "metadata": {},
   "outputs": [],
   "source": []
  }
 ],
 "metadata": {
  "kernelspec": {
   "display_name": "padma-venv",
   "language": "python",
   "name": "padma-venv"
  },
  "language_info": {
   "codemirror_mode": {
    "name": "ipython",
    "version": 3
   },
   "file_extension": ".py",
   "mimetype": "text/x-python",
   "name": "python",
   "nbconvert_exporter": "python",
   "pygments_lexer": "ipython3",
   "version": "3.5.2"
  }
 },
 "nbformat": 4,
 "nbformat_minor": 2
}
