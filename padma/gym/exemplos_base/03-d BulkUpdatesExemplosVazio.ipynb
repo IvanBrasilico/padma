{
 "cells": [
  {
   "cell_type": "code",
   "execution_count": 1,
   "metadata": {},
   "outputs": [
    {
     "name": "stderr",
     "output_type": "stream",
     "text": [
      "2019-03-28 11:00:17,109 ajna         INFO     Configuração de log efetuada\n"
     ]
    },
    {
     "name": "stdout",
     "output_type": "stream",
     "text": [
      "Fazendo log de erros e alertas no arquivo  /home/ivan/pybr/ajna/padma/ajna_commons/flask/error.log\n",
      "Fazendo log de atividade no arquivo  /home/ivan/pybr/ajna/padma/ajna_commons/flask/access.log\n",
      "[16384]\n"
     ]
    }
   ],
   "source": [
    "import json\n",
    "import numpy as np\n",
    "import time\n",
    "from gridfs import GridFS\n",
    "from pymongo import MongoClient\n",
    "from PIL import Image\n",
    "\n",
    "from padma.models.vazios.vazio2 import VazioSVMModel\n",
    "\n",
    "from ajna_commons.flask.conf import DATABASE, MONGODB_URI\n",
    "from ajna_commons.utils.images import generate_batch, get_imagens_recortadas\n",
    "\n",
    "db = MongoClient(host=MONGODB_URI)[DATABASE]\n",
    "fs = GridFS(db)\n",
    "\n",
    "model = VazioSVMModel()\n",
    "print(model.input_shape)"
   ]
  },
  {
   "cell_type": "code",
   "execution_count": 12,
   "metadata": {},
   "outputs": [],
   "source": [
    "batch_size = 16\n",
    "limit = 32\n",
    "TEMBBOX = {'metadata.contentType': 'image/jpeg',\n",
    "          'metadata.predictions.bbox': {'$exists': True}}\n",
    "dict_filtro = TEMBBOX\n",
    "projection = ['metadata.predictions']\n",
    "dict_filtro['metadata.predictions.vazio'] = {'$exists': True}"
   ]
  },
  {
   "cell_type": "code",
   "execution_count": 13,
   "metadata": {},
   "outputs": [
    {
     "data": {
      "text/plain": [
       "33879"
      ]
     },
     "execution_count": 13,
     "metadata": {},
     "output_type": "execute_result"
    }
   ],
   "source": [
    "db['fs.files'].count_documents(dict_filtro)"
   ]
  },
  {
   "cell_type": "code",
   "execution_count": 14,
   "metadata": {},
   "outputs": [],
   "source": [
    "batch_gen = generate_batch(db, filtro=dict_filtro, projection=projection,\n",
    "                           batch_size=batch_size, limit=limit)\n",
    "\n",
    "model.model.n_jobs = 1"
   ]
  },
  {
   "cell_type": "code",
   "execution_count": 15,
   "metadata": {},
   "outputs": [
    {
     "name": "stdout",
     "output_type": "stream",
     "text": [
      "Montou X em 0.01 \n",
      "Fez predição em 0.6319046020507812\n",
      "Montou X em 0.01 \n",
      "Fez predição em 0.63651442527771\n",
      "Montou X em 0.01 \n",
      "Fez predição em 0.6336231231689453\n",
      "Montou X em 0.02 \n",
      "Fez predição em 0.6324799060821533\n",
      "Montou X em 0.02 \n",
      "Fez predição em 0.7052021026611328\n",
      "Montou X em 0.01 \n",
      "Fez predição em 0.6695122718811035\n",
      "Montou X em 0.02 \n",
      "Fez predição em 0.6741838455200195\n",
      "Montou X em 0.02 \n",
      "Fez predição em 0.6316237449645996\n",
      "Montou X em 0.02 \n",
      "Fez predição em 0.6346638202667236\n",
      "Montou X em 0.02 \n",
      "Fez predição em 0.6303274631500244\n",
      "Tempo total: 8.269472122192383. Por imagem: 0.05168420076370239\n"
     ]
    }
   ],
   "source": [
    "X = np.zeros((batch_size, *model.input_shape), dtype=np.float32)\n",
    "_ids = []\n",
    "y = []\n",
    "s = time.time()\n",
    "for batch, rows in batch_gen:\n",
    "    if len(batch) == 0:\n",
    "        break\n",
    "    s0 = time.time()\n",
    "    for i, (images, row) in enumerate(zip(batch, rows)):\n",
    "        x = model.prepara(images[0])\n",
    "        X[i, :] = x\n",
    "        _ids.append(row['_id'])\n",
    "    s1 = time.time()\n",
    "    print('Montou X em %0.2f ' % (s1 - s0))\n",
    "    preds = model.model.predict(X)\n",
    "    y.append(preds)\n",
    "    s2 = time.time()\n",
    "    print('Fez predição em %s' % (s2 - s1))\n",
    "    # print(indexes)\n",
    "s3 = time.time()\n",
    "elapsed = s3 - s\n",
    "print('Tempo total: %s. Por imagem: %s' % (elapsed, elapsed / limit))\n",
    "    "
   ]
  },
  {
   "cell_type": "markdown",
   "metadata": {},
   "source": [
    "## Abaixo, testes e visualizações de \"sanidade\", isto é, as predições são iguais às do PADMA???"
   ]
  },
  {
   "cell_type": "code",
   "execution_count": 16,
   "metadata": {},
   "outputs": [
    {
     "data": {
      "text/plain": [
       "(16,)"
      ]
     },
     "execution_count": 16,
     "metadata": {},
     "output_type": "execute_result"
    }
   ],
   "source": [
    "preds.shape"
   ]
  },
  {
   "cell_type": "code",
   "execution_count": 17,
   "metadata": {},
   "outputs": [
    {
     "data": {
      "text/plain": [
       "(160,)"
      ]
     },
     "execution_count": 17,
     "metadata": {},
     "output_type": "execute_result"
    }
   ],
   "source": [
    "ystack = np.vstack(y).astype(np.float32).flatten()\n",
    "ystack.shape"
   ]
  },
  {
   "cell_type": "code",
   "execution_count": 18,
   "metadata": {},
   "outputs": [
    {
     "data": {
      "text/plain": [
       "160"
      ]
     },
     "execution_count": 18,
     "metadata": {},
     "output_type": "execute_result"
    }
   ],
   "source": [
    "len(_ids)"
   ]
  },
  {
   "cell_type": "code",
   "execution_count": 19,
   "metadata": {},
   "outputs": [],
   "source": [
    "# TODO: Fazer Update no MongoDB"
   ]
  },
  {
   "cell_type": "code",
   "execution_count": 27,
   "metadata": {},
   "outputs": [
    {
     "name": "stdout",
     "output_type": "stream",
     "text": [
      "False 1.0 False True\n",
      "True 0.0 True False\n",
      "False 1.0 False True\n",
      "False 1.0 False True\n",
      "False 1.0 False True\n",
      "False 1.0 False True\n",
      "False 1.0 False True\n",
      "False 1.0 False True\n",
      "False 1.0 False True\n",
      "False 1.0 False True\n"
     ]
    }
   ],
   "source": [
    "for i, _id in enumerate(_ids[:10]):\n",
    "    index_row = db.fs.files.find_one({'_id': _id})\n",
    "    old_vazio = index_row['metadata']['predictions'][0]['vazio']\n",
    "    new_vazio = ystack[i]\n",
    "    print(old_vazio, new_vazio, new_vazio < 0.5, int(new_vazio) == 1)\n",
    "    # print(index_row['metadata']['predictions'])"
   ]
  },
  {
   "cell_type": "code",
   "execution_count": null,
   "metadata": {},
   "outputs": [],
   "source": []
  }
 ],
 "metadata": {
  "kernelspec": {
   "display_name": "padma-venv",
   "language": "python",
   "name": "padma-venv"
  },
  "language_info": {
   "codemirror_mode": {
    "name": "ipython",
    "version": 3
   },
   "file_extension": ".py",
   "mimetype": "text/x-python",
   "name": "python",
   "nbconvert_exporter": "python",
   "pygments_lexer": "ipython3",
   "version": "3.5.2"
  }
 },
 "nbformat": 4,
 "nbformat_minor": 2
}
