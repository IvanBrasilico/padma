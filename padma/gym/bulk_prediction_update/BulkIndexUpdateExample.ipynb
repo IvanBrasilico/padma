{
 "cells": [
  {
   "cell_type": "code",
   "execution_count": 8,
   "metadata": {},
   "outputs": [],
   "source": [
    "import numpy as np\n",
    "import time\n",
    "from PIL import Image\n",
    "\n",
    "from padma.gym.montadores.dados import generate_batch, get_cursor\n",
    "from padma.models.encoder.encoder import EncoderModel, SIZE\n",
    "\n",
    "encoder = EncoderModel()"
   ]
  },
  {
   "cell_type": "code",
   "execution_count": 9,
   "metadata": {},
   "outputs": [],
   "source": [
    "batch_size = 100\n",
    "limit = 1000\n",
    "TEMBBOX = {'metadata.contentType': 'image/jpeg',\n",
    "          'metadata.predictions.bbox': {'$exists': True}}"
   ]
  },
  {
   "cell_type": "code",
   "execution_count": 10,
   "metadata": {},
   "outputs": [],
   "source": [
    "batch_gen = generate_batch(filtro=TEMBBOX, batch_size=batch_size, limit=limit)"
   ]
  },
  {
   "cell_type": "code",
   "execution_count": 11,
   "metadata": {},
   "outputs": [
    {
     "name": "stdout",
     "output_type": "stream",
     "text": [
      "Montou X em 0.00 \n",
      "Fez predição em 0.060718536376953125\n",
      "Montou X em 0.00 \n",
      "Fez predição em 0.021097421646118164\n",
      "Montou X em 0.00 \n",
      "Fez predição em 0.019579172134399414\n",
      "Montou X em 0.00 \n",
      "Fez predição em 0.019903898239135742\n",
      "Montou X em 0.00 \n",
      "Fez predição em 0.020211458206176758\n",
      "Montou X em 0.00 \n",
      "Fez predição em 0.01994013786315918\n",
      "Montou X em 0.00 \n",
      "Fez predição em 0.0193636417388916\n",
      "Montou X em 0.00 \n",
      "Fez predição em 0.019603490829467773\n",
      "Montou X em 0.00 \n",
      "Fez predição em 0.019552946090698242\n",
      "Montou X em 0.00 \n",
      "Fez predição em 0.01975846290588379\n",
      "Tempo total: 6.17634916305542. Por imagem: 0.00617634916305542\n"
     ]
    }
   ],
   "source": [
    "X = np.zeros((batch_size, *SIZE, 1))\n",
    "Y = []\n",
    "s = time.time()\n",
    "for batch in batch_gen:\n",
    "    if len(batch) == 0:\n",
    "        break\n",
    "    for i, image in enumerate(batch):\n",
    "        image_array = encoder.image_prepare(image)\n",
    "        s0 = time.time()\n",
    "        X[i, :, :, :] = image_array\n",
    "    s1 = time.time()\n",
    "    print('Montou X em %0.2f ' % (s1 - s0))\n",
    "    indexes = encoder.model.predict(X)\n",
    "    indexes = indexes.reshape(-1, 128)\n",
    "    Y.append(indexes)\n",
    "    s2 = time.time()\n",
    "    print('Fez predição em %s' % (s2 - s1))\n",
    "    # print(indexes)\n",
    "s3 = time.time()\n",
    "elapsed = s3 - s\n",
    "print('Tempo total: %s. Por imagem: %s' % (elapsed, elapsed / limit))\n",
    "    "
   ]
  },
  {
   "cell_type": "code",
   "execution_count": 12,
   "metadata": {},
   "outputs": [
    {
     "data": {
      "text/plain": [
       "(100, 128)"
      ]
     },
     "execution_count": 12,
     "metadata": {},
     "output_type": "execute_result"
    }
   ],
   "source": [
    "indexes.shape"
   ]
  },
  {
   "cell_type": "code",
   "execution_count": 13,
   "metadata": {},
   "outputs": [
    {
     "data": {
      "text/plain": [
       "array([[0.        , 1.3498124 , 0.        , ..., 0.0999953 , 0.        ,\n",
       "        0.02360947],\n",
       "       [0.        , 1.726577  , 0.06485925, ..., 0.0760605 , 0.        ,\n",
       "        0.5732175 ],\n",
       "       [0.28272963, 1.7097923 , 0.47771624, ..., 0.        , 0.        ,\n",
       "        0.77209127],\n",
       "       ...,\n",
       "       [0.        , 1.3648994 , 0.        , ..., 0.15623276, 0.0199236 ,\n",
       "        0.2563639 ],\n",
       "       [1.0042337 , 1.4325662 , 0.3986279 , ..., 0.07515204, 0.        ,\n",
       "        0.6760844 ],\n",
       "       [0.        , 1.3079642 , 0.        , ..., 0.3590067 , 0.37025446,\n",
       "        0.06066954]], dtype=float32)"
      ]
     },
     "execution_count": 13,
     "metadata": {},
     "output_type": "execute_result"
    }
   ],
   "source": [
    "indexes"
   ]
  },
  {
   "cell_type": "code",
   "execution_count": null,
   "metadata": {},
   "outputs": [],
   "source": [
    "TODO: Fazer Update no MongoDB"
   ]
  }
 ],
 "metadata": {
  "kernelspec": {
   "display_name": "padma-venv",
   "language": "python",
   "name": "padma-venv"
  },
  "language_info": {
   "codemirror_mode": {
    "name": "ipython",
    "version": 3
   },
   "file_extension": ".py",
   "mimetype": "text/x-python",
   "name": "python",
   "nbconvert_exporter": "python",
   "pygments_lexer": "ipython3",
   "version": "3.5.2"
  }
 },
 "nbformat": 4,
 "nbformat_minor": 2
}
